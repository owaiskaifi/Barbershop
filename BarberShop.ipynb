{
  "nbformat": 4,
  "nbformat_minor": 0,
  "metadata": {
    "colab": {
      "name": "Copy of BarberShop",
      "provenance": [],
      "collapsed_sections": []
    },
    "kernelspec": {
      "name": "python3",
      "display_name": "Python 3"
    },
    "language_info": {
      "name": "python"
    },
    "accelerator": "GPU"
  },
  "cells": [
    {
      "cell_type": "markdown",
      "source": [
        "#RUN THIS"
      ],
      "metadata": {
        "id": "n6fR46S0afv-"
      }
    },
    {
      "cell_type": "code",
      "execution_count": null,
      "metadata": {
        "id": "bmTa8yEVcLtM"
      },
      "outputs": [],
      "source": [
        "!git clone https://github.com/ZPdesu/Barbershop.git\n",
        "%cd Barbershop\n",
        "\n",
        "! pip install ninja"
      ]
    },
    {
      "cell_type": "code",
      "source": [
        "%cd /content/Barbershop/unprocessed"
      ],
      "metadata": {
        "id": "6EWrvMsZan-O"
      },
      "execution_count": null,
      "outputs": []
    },
    {
      "cell_type": "markdown",
      "source": [
        "#run this for uploading a file.Click on browse for choosing image to upload. when uploaded, run again for uploading more files."
      ],
      "metadata": {
        "id": "IblMUXMLciNt"
      }
    },
    {
      "cell_type": "code",
      "source": [
        "from google.colab import files\n",
        "\n",
        "uploaded = files.upload()\n",
        "\n",
        "for fn in uploaded.keys():\n",
        "  print('User uploaded file \"{name}\" with length {length} bytes'.format(\n",
        "      name=fn, length=len(uploaded[fn])))"
      ],
      "metadata": {
        "id": "VQ4vsydCaq0f"
      },
      "execution_count": null,
      "outputs": []
    },
    {
      "cell_type": "markdown",
      "source": [
        "#Run this"
      ],
      "metadata": {
        "id": "KdHnTatzdJPd"
      }
    },
    {
      "cell_type": "code",
      "source": [
        "%cd /content/Barbershop\n",
        "! python align_face.py"
      ],
      "metadata": {
        "id": "DQJEZvAjdELz"
      },
      "execution_count": null,
      "outputs": []
    },
    {
      "cell_type": "markdown",
      "source": [
        "#path 1 = face\n",
        "#path 2 = hair\n",
        "#path 3 = hair color"
      ],
      "metadata": {
        "id": "C9WlaWCeazc9"
      }
    },
    {
      "cell_type": "markdown",
      "source": [
        "#replace a.png .. etc with respective names + .png. the format is changed in the previous cell"
      ],
      "metadata": {
        "id": "KOgOtuSXdReg"
      }
    },
    {
      "cell_type": "code",
      "source": [
        "!python main.py --im_path1 a.png --im_path2 b.png --im_path3 b.png --sign realistic --smooth 5"
      ],
      "metadata": {
        "id": "_JeAeFj_dNVV"
      },
      "execution_count": null,
      "outputs": []
    },
    {
      "cell_type": "markdown",
      "source": [
        "#2nd variation for experiments"
      ],
      "metadata": {
        "id": "ZvdMcnKpdc9i"
      }
    },
    {
      "cell_type": "code",
      "source": [
        "! python main.py --im_path1 a.png --im_path2 b.png --im_path3 b.png --sign fidelity --smooth 5"
      ],
      "metadata": {
        "id": "XRAZKDFOd3BJ"
      },
      "execution_count": null,
      "outputs": []
    },
    {
      "cell_type": "markdown",
      "source": [
        "#download\n",
        "\n",
        "form the files tab go to output folder there would be a file named something_realistic.png. that is the output. just download by right clicking"
      ],
      "metadata": {
        "id": "8HAKIOLcd1Du"
      }
    },
    {
      "cell_type": "code",
      "source": [
        ""
      ],
      "metadata": {
        "id": "HrucB9SGepSY"
      },
      "execution_count": null,
      "outputs": []
    }
  ]
}
